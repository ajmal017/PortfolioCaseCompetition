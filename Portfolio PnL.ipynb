{
 "cells": [
  {
   "cell_type": "code",
   "execution_count": 26,
   "metadata": {},
   "outputs": [],
   "source": [
    "import pandas as pd\n",
    "from datetime import datetime\n",
    "import yfinance as yf\n",
    "from matplotlib import pyplot as plt"
   ]
  },
  {
   "cell_type": "markdown",
   "metadata": {},
   "source": [
    "## Defining Current Portfolio"
   ]
  },
  {
   "cell_type": "code",
   "execution_count": 2,
   "metadata": {},
   "outputs": [],
   "source": [
    "equities_strategyA = [\n",
    "    'ARNC',\n",
    "    'ABT',\n",
    "    'ADSK',\n",
    "    'ADBE',\n",
    "    'ADI',\n",
    "    'AEP',\n",
    "    'AES',\n",
    "    'AFL',\n",
    "    'AMD',\n",
    "    'ADP'\n",
    "]\n",
    "\n",
    "equities_strategyB = [\n",
    "    'ENDP',\n",
    "    'MDCO',\n",
    "    'WW',\n",
    "    'STMP',\n",
    "    'INFN',\n",
    "    'SEMG',\n",
    "    'MIK',\n",
    "    'RETA',\n",
    "    'CLDR',\n",
    "    'HOME',\n",
    "]\n",
    "\n",
    "\n",
    "\n",
    "\n",
    "current_B = pd.DataFrame([95480,\n",
    "8700,\n",
    "12880,\n",
    "5400,\n",
    "79540,\n",
    "27880,\n",
    "52900,\n",
    "2180,\n",
    "52840,\n",
    "51780],\n",
    "                        index = equities_strategyB,\n",
    "                        columns = ['Shares Holding'])\n",
    "\n",
    "current_A = pd.DataFrame([15860,\n",
    "6160,\n",
    "2520,\n",
    "2720,\n",
    "3620,\n",
    "3620,\n",
    "21800,\n",
    "6760,\n",
    "14840,\n",
    "2600], \n",
    "                        index = equities_strategyA,\n",
    "                        columns = ['Shares Holding'])"
   ]
  },
  {
   "cell_type": "markdown",
   "metadata": {},
   "source": [
    "Note that all shares were bought on November 10th."
   ]
  },
  {
   "cell_type": "code",
   "execution_count": 6,
   "metadata": {},
   "outputs": [],
   "source": [
    "current_B['BuyPrice'] = [\n",
    "    4.33,\n",
    "    55.01,\n",
    "    34.27,\n",
    "    91.50,\n",
    "    5.30,\n",
    "    16.07,\n",
    "    9.08,\n",
    "    209.88,\n",
    "    8.75,\n",
    "    8.71,\n",
    "]\n",
    "\n",
    "current_A['BuyPrice'] = [\n",
    "    28.97,\n",
    "    83.74,\n",
    "    152.96,\n",
    "    292.02,\n",
    "    113.02,\n",
    "    89.02,\n",
    "    17.64,\n",
    "    54.14,\n",
    "    36.26,\n",
    "    162.73,\n",
    "]"
   ]
  },
  {
   "cell_type": "code",
   "execution_count": 10,
   "metadata": {},
   "outputs": [
    {
     "data": {
      "text/html": [
       "<div>\n",
       "<style scoped>\n",
       "    .dataframe tbody tr th:only-of-type {\n",
       "        vertical-align: middle;\n",
       "    }\n",
       "\n",
       "    .dataframe tbody tr th {\n",
       "        vertical-align: top;\n",
       "    }\n",
       "\n",
       "    .dataframe thead th {\n",
       "        text-align: right;\n",
       "    }\n",
       "</style>\n",
       "<table border=\"1\" class=\"dataframe\">\n",
       "  <thead>\n",
       "    <tr style=\"text-align: right;\">\n",
       "      <th></th>\n",
       "      <th>Shares Holding</th>\n",
       "      <th>BuyPrice</th>\n",
       "    </tr>\n",
       "  </thead>\n",
       "  <tbody>\n",
       "    <tr>\n",
       "      <th>ARNC</th>\n",
       "      <td>15860</td>\n",
       "      <td>28.97</td>\n",
       "    </tr>\n",
       "    <tr>\n",
       "      <th>ABT</th>\n",
       "      <td>6160</td>\n",
       "      <td>83.74</td>\n",
       "    </tr>\n",
       "    <tr>\n",
       "      <th>ADSK</th>\n",
       "      <td>2520</td>\n",
       "      <td>152.96</td>\n",
       "    </tr>\n",
       "    <tr>\n",
       "      <th>ADBE</th>\n",
       "      <td>2720</td>\n",
       "      <td>292.02</td>\n",
       "    </tr>\n",
       "    <tr>\n",
       "      <th>ADI</th>\n",
       "      <td>3620</td>\n",
       "      <td>113.02</td>\n",
       "    </tr>\n",
       "    <tr>\n",
       "      <th>AEP</th>\n",
       "      <td>3620</td>\n",
       "      <td>89.02</td>\n",
       "    </tr>\n",
       "    <tr>\n",
       "      <th>AES</th>\n",
       "      <td>21800</td>\n",
       "      <td>17.64</td>\n",
       "    </tr>\n",
       "    <tr>\n",
       "      <th>AFL</th>\n",
       "      <td>6760</td>\n",
       "      <td>54.14</td>\n",
       "    </tr>\n",
       "    <tr>\n",
       "      <th>AMD</th>\n",
       "      <td>14840</td>\n",
       "      <td>36.26</td>\n",
       "    </tr>\n",
       "    <tr>\n",
       "      <th>ADP</th>\n",
       "      <td>2600</td>\n",
       "      <td>162.73</td>\n",
       "    </tr>\n",
       "    <tr>\n",
       "      <th>ENDP</th>\n",
       "      <td>95480</td>\n",
       "      <td>4.33</td>\n",
       "    </tr>\n",
       "    <tr>\n",
       "      <th>MDCO</th>\n",
       "      <td>8700</td>\n",
       "      <td>55.01</td>\n",
       "    </tr>\n",
       "    <tr>\n",
       "      <th>WW</th>\n",
       "      <td>12880</td>\n",
       "      <td>34.27</td>\n",
       "    </tr>\n",
       "    <tr>\n",
       "      <th>STMP</th>\n",
       "      <td>5400</td>\n",
       "      <td>91.50</td>\n",
       "    </tr>\n",
       "    <tr>\n",
       "      <th>INFN</th>\n",
       "      <td>79540</td>\n",
       "      <td>5.30</td>\n",
       "    </tr>\n",
       "    <tr>\n",
       "      <th>SEMG</th>\n",
       "      <td>27880</td>\n",
       "      <td>16.07</td>\n",
       "    </tr>\n",
       "    <tr>\n",
       "      <th>MIK</th>\n",
       "      <td>52900</td>\n",
       "      <td>9.08</td>\n",
       "    </tr>\n",
       "    <tr>\n",
       "      <th>RETA</th>\n",
       "      <td>2180</td>\n",
       "      <td>209.88</td>\n",
       "    </tr>\n",
       "    <tr>\n",
       "      <th>CLDR</th>\n",
       "      <td>52840</td>\n",
       "      <td>8.75</td>\n",
       "    </tr>\n",
       "    <tr>\n",
       "      <th>HOME</th>\n",
       "      <td>51780</td>\n",
       "      <td>8.71</td>\n",
       "    </tr>\n",
       "  </tbody>\n",
       "</table>\n",
       "</div>"
      ],
      "text/plain": [
       "      Shares Holding  BuyPrice\n",
       "ARNC           15860     28.97\n",
       "ABT             6160     83.74\n",
       "ADSK            2520    152.96\n",
       "ADBE            2720    292.02\n",
       "ADI             3620    113.02\n",
       "AEP             3620     89.02\n",
       "AES            21800     17.64\n",
       "AFL             6760     54.14\n",
       "AMD            14840     36.26\n",
       "ADP             2600    162.73\n",
       "ENDP           95480      4.33\n",
       "MDCO            8700     55.01\n",
       "WW             12880     34.27\n",
       "STMP            5400     91.50\n",
       "INFN           79540      5.30\n",
       "SEMG           27880     16.07\n",
       "MIK            52900      9.08\n",
       "RETA            2180    209.88\n",
       "CLDR           52840      8.75\n",
       "HOME           51780      8.71"
      ]
     },
     "execution_count": 10,
     "metadata": {},
     "output_type": "execute_result"
    }
   ],
   "source": [
    "portfolio = pd.concat([current_A, current_B], axis=0)\n",
    "portfolio"
   ]
  },
  {
   "cell_type": "markdown",
   "metadata": {},
   "source": [
    "## Getting Historical Data"
   ]
  },
  {
   "cell_type": "code",
   "execution_count": 17,
   "metadata": {},
   "outputs": [
    {
     "name": "stdout",
     "output_type": "stream",
     "text": [
      "[*********************100%***********************]  20 of 20 completed\n"
     ]
    }
   ],
   "source": [
    "end = datetime.now().strftime(\"%Y-%m-%d\")\n",
    "start = '2019-11-10'\n",
    "\n",
    "\n",
    "historical_data = yf.download(list(portfolio.index),\n",
    "                             start,\n",
    "                             end)['Close']"
   ]
  },
  {
   "cell_type": "code",
   "execution_count": 22,
   "metadata": {},
   "outputs": [],
   "source": [
    "pnl = historical_data - portfolio['BuyPrice']\n",
    "pnl = pnl*portfolio['Shares Holding']"
   ]
  },
  {
   "cell_type": "markdown",
   "metadata": {},
   "source": [
    "## Plotting Returns"
   ]
  },
  {
   "cell_type": "code",
   "execution_count": 40,
   "metadata": {},
   "outputs": [
    {
     "data": {
      "text/plain": [
       "Text(0, 0.5, 'Percent Gain/Loss')"
      ]
     },
     "execution_count": 40,
     "metadata": {},
     "output_type": "execute_result"
    },
    {
     "data": {
      "image/png": "[encoded data removed]",
      "text/plain": [
       "<Figure size 1080x360 with 1 Axes>"
      ]
     },
     "metadata": {
      "needs_background": "light"
     },
     "output_type": "display_data"
    },
    {
     "data": {
      "image/png": "[encoded data removed]",
      "text/plain": [
       "<Figure size 1080x360 with 1 Axes>"
      ]
     },
     "metadata": {
      "needs_background": "light"
     },
     "output_type": "display_data"
    }
   ],
   "source": [
    "plt.figure(figsize=(15, 5))\n",
    "pnl.sum(axis=1).plot(figsize=(15, 5), title='Overall PnL'); plt.grid(); plt.ylabel('US Dollars')\n",
    "\n",
    "\n",
    "plt.figure(figsize=(15, 5))\n",
    "(100 * pnl.sum(axis=1)/(portfolio['BuyPrice']*portfolio['Shares Holding']).sum()).plot(\n",
    "figsize=(15, 5), title='Cumulative Returns'); plt.grid(); plt.ylabel('Percent Gain/Loss')"
   ]
  },
  {
   "cell_type": "code",
   "execution_count": null,
   "metadata": {},
   "outputs": [],
   "source": []
  }
 ],
 "metadata": {
  "hide_input": false,
  "kernelspec": {
   "display_name": "Python [conda env:env1] *",
   "language": "python",
   "name": "conda-env-env1-py"
  },
  "language_info": {
   "codemirror_mode": {
    "name": "ipython",
    "version": 3
   },
   "file_extension": ".py",
   "mimetype": "text/x-python",
   "name": "python",
   "nbconvert_exporter": "python",
   "pygments_lexer": "ipython3",
   "version": "3.7.5"
  },
  "toc": {
   "base_numbering": 1,
   "nav_menu": {},
   "number_sections": true,
   "sideBar": true,
   "skip_h1_title": false,
   "title_cell": "Table of Contents",
   "title_sidebar": "Contents",
   "toc_cell": false,
   "toc_position": {},
   "toc_section_display": true,
   "toc_window_display": true
  },
  "varInspector": {
   "cols": {
    "lenName": 16,
    "lenType": 16,
    "lenVar": 40
   },
   "kernels_config": {
    "python": {
     "delete_cmd_postfix": "",
     "delete_cmd_prefix": "del ",
     "library": "var_list.py",
     "varRefreshCmd": "print(var_dic_list())"
    },
    "r": {
     "delete_cmd_postfix": ") ",
     "delete_cmd_prefix": "rm(",
     "library": "var_list.r",
     "varRefreshCmd": "cat(var_dic_list()) "
    }
   },
   "types_to_exclude": [
    "module",
    "function",
    "builtin_function_or_method",
    "instance",
    "_Feature"
   ],
   "window_display": false
  }
 },
 "nbformat": 4,
 "nbformat_minor": 2
}
